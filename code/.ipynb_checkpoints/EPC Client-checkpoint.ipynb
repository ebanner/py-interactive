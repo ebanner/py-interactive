{
 "cells": [
  {
   "cell_type": "markdown",
   "metadata": {
    "ein.tags": "worksheet-0",
    "slideshow": {
     "slide_type": "-"
    }
   },
   "source": [
    "# Register Python to Emacs"
   ]
  },
  {
   "cell_type": "code",
   "execution_count": null,
   "metadata": {
    "autoscroll": false,
    "ein.tags": "worksheet-0",
    "slideshow": {
     "slide_type": "-"
    }
   },
   "outputs": [],
   "source": [
    "import time\n",
    "from epc.client import EPCClient\n",
    "\n",
    "def __cell__(content, buffer_name, cell_type):\n",
    "    \"\"\"Makes a cell with `content` in emacs buffer `buffer_name` of type `cell_type`\n",
    "    \n",
    "    Calls to this function are sprinkled into code for generating a jupyter notebook via EIN over RPC.\n",
    "    \n",
    "    Args:\n",
    "        content (str): What goes in the cell\n",
    "        buffer_name (str): The name of the emacs buffer to put the cell in\n",
    "        cell_type (str): The type of the cell (only 'code', 'markdown', and 'n' where n is an integer are allowed)\n",
    "    \n",
    "    \"\"\"\n",
    "    elisp_func = 'make-code-cell-and-eval'\n",
    "    epc_client.call_sync(elisp_func, args=[content, buffer_name, cell_type])\n",
    "    time.sleep(0.01)\n",
    "\n",
    "epc_client = EPCClient(('localhost', 9999), log_traceback=True)"
   ]
  }
 ],
 "metadata": {
  "kernelspec": {
   "display_name": "Python 3",
   "language": "python",
   "name": "python3"
  },
  "language_info": {
   "codemirror_mode": {
    "name": "ipython",
    "version": 3
   },
   "file_extension": ".py",
   "mimetype": "text/x-python",
   "name": "python",
   "nbconvert_exporter": "python",
   "pygments_lexer": "ipython3",
   "version": "3.6.1"
  },
  "name": "EPC Client.ipynb"
 },
 "nbformat": 4,
 "nbformat_minor": 2
}
